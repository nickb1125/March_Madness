{
 "cells": [
  {
   "cell_type": "code",
   "execution_count": 8,
   "metadata": {},
   "outputs": [],
   "source": [
    "import pandas as pd\n",
    "import re\n",
    "import numpy as np\n",
    "import os"
   ]
  },
  {
   "cell_type": "code",
   "execution_count": 9,
   "metadata": {},
   "outputs": [
    {
     "name": "stdout",
     "output_type": "stream",
     "text": [
      "Warning: Your Kaggle API key is readable by other users on this system! To fix this, you can run 'chmod 600 /Users/nickbachelder/.kaggle/kaggle.json'\n",
      "Downloading march-machine-learning-mania-2023.zip to /Users/nickbachelder/Desktop/Kaggle/Madness/data\n"
     ]
    },
    {
     "name": "stderr",
     "output_type": "stream",
     "text": [
      "100%|██████████| 28.5M/28.5M [00:02<00:00, 13.0MB/s]\n"
     ]
    },
    {
     "name": "stdout",
     "output_type": "stream",
     "text": [
      "\n",
      "Archive:  /Users/nickbachelder/Desktop/Kaggle/Madness/data/march-machine-learning-mania-2023.zip\n",
      "  inflating: Cities.csv              \n",
      "  inflating: Conferences.csv         \n",
      "  inflating: MConferenceTourneyGames.csv  \n",
      "  inflating: MGameCities.csv         \n",
      "  inflating: MMasseyOrdinals_thru_Season2023_Day128.csv  \n",
      "  inflating: MNCAATourneyCompactResults.csv  \n",
      "  inflating: MNCAATourneyDetailedResults.csv  \n",
      "  inflating: MNCAATourneySeedRoundSlots.csv  \n",
      "  inflating: MNCAATourneySeeds.csv   \n",
      "  inflating: MNCAATourneySlots.csv   \n",
      "  inflating: MRegularSeasonCompactResults.csv  \n",
      "  inflating: MRegularSeasonDetailedResults.csv  \n",
      "  inflating: MSeasons.csv            \n",
      "  inflating: MSecondaryTourneyCompactResults.csv  \n",
      "  inflating: MSecondaryTourneyTeams.csv  \n",
      "  inflating: MTeamCoaches.csv        \n",
      "  inflating: MTeamConferences.csv    \n",
      "  inflating: MTeamSpellings.csv      \n",
      "  inflating: MTeams.csv              \n",
      "  inflating: SampleSubmission2023.csv  \n",
      "  inflating: WGameCities.csv         \n",
      "  inflating: WNCAATourneyCompactResults.csv  \n",
      "  inflating: WNCAATourneyDetailedResults.csv  \n",
      "  inflating: WNCAATourneySeeds.csv   \n",
      "  inflating: WNCAATourneySlots.csv   \n",
      "  inflating: WRegularSeasonCompactResults.csv  \n",
      "  inflating: WRegularSeasonDetailedResults.csv  \n",
      "  inflating: WSeasons.csv            \n",
      "  inflating: WTeamConferences.csv    \n",
      "  inflating: WTeamSpellings.csv      \n",
      "  inflating: WTeams.csv              \n"
     ]
    },
    {
     "data": {
      "text/plain": [
       "0"
      ]
     },
     "execution_count": 9,
     "metadata": {},
     "output_type": "execute_result"
    }
   ],
   "source": [
    "# pull data, sort out paths\n",
    "\n",
    "proj_dir = os.getcwd()\n",
    "data_dir = os.path.join(proj_dir, 'data' )\n",
    "os.chdir( proj_dir )\n",
    "os.system(\"rm -rf {}\".format( data_dir ))\n",
    "os.system('mkdir data')\n",
    "os.chdir( data_dir )\n",
    "os.system(\"kaggle competitions download -c march-machine-learning-mania-2023\")\n",
    "os.system( 'unzip {}.zip'.format( os.path.join(data_dir, 'march-machine-learning-mania-2023')) )"
   ]
  },
  {
   "cell_type": "code",
   "execution_count": 53,
   "metadata": {},
   "outputs": [],
   "source": [
    "## Get tourney seed data\n",
    "\n",
    "mseed = pd.read_csv(\"MNCAATourneySeeds.csv\")\n",
    "mseed['M_W'] = 'M'\n",
    "wseed = pd.read_csv(\"WNCAATourneySeeds.csv\")\n",
    "wseed['M_W'] = 'W'\n",
    "seed = pd.concat([mseed, wseed])\n",
    "seed['ReigonSeed'] = seed.Seed\n",
    "seed['Seed'] = [seeds[1:] for seeds in seed.Seed]\n",
    "seed['play_in_seed'] = list(map(lambda x : x[-1].isalpha(), seed.Seed))\n",
    "seed['Seed'] = list(map(lambda x : int(re.sub('\\D', \"\", x)), seed.Seed))\n",
    "seed.to_csv('tourney_seeds.csv', index=False) \n",
    "\n",
    "mslot = pd.read_csv(\"MNCAATourneySlots.csv\")\n",
    "mslot['M_W'] = 'M'\n",
    "wslot = pd.read_csv(\"WNCAATourneySlots.csv\")\n",
    "wslot['M_W'] = 'W'\n",
    "slot = pd.concat([mslot, wslot])\n",
    "conditions = [\n",
    "    [\"R1\" in slot for slot in slot.Slot],\n",
    "    [\"R2\" in slot for slot in slot.Slot],\n",
    "    [\"R3\" in slot for slot in slot.Slot],\n",
    "    [\"R4\" in slot for slot in slot.Slot],\n",
    "    [\"R5\" in slot for slot in slot.Slot],\n",
    "    [\"R6\" in slot for slot in slot.Slot],\n",
    "]\n",
    "choices = [1,2,3,4,5,6]\n",
    "slot[\"GameRound\"] = np.select(conditions, choices, default = 0)\n",
    "slot\n",
    "slot.to_csv('tourney_slots.csv', index=False) \n"
   ]
  },
  {
   "cell_type": "code",
   "execution_count": null,
   "metadata": {},
   "outputs": [],
   "source": []
  },
  {
   "cell_type": "code",
   "execution_count": null,
   "metadata": {},
   "outputs": [],
   "source": []
  },
  {
   "cell_type": "code",
   "execution_count": 19,
   "metadata": {},
   "outputs": [],
   "source": [
    "m_season_details = pd.read_csv(\"MRegularSeasonDetailedResults.csv\")\n",
    "m_season_details['M_W'] = 'M'\n",
    "w_season_details = pd.read_csv(\"WRegularSeasonDetailedResults.csv\")\n",
    "m_season_details['M_W'] = 'W'\n",
    "season_details = pd.concat([m_season_details, w_season_details])\n",
    "season_details\n",
    "\n",
    "\n",
    "winner_season_details = season_details[['M_W', \"Season\", \"DayNum\", \"WTeamID\", \"LTeamID\", \"WScore\", \"LScore\", \"WLoc\", \"WFGM\", \n",
    "'WFGA', 'WFGM3', 'WFGA3', 'WFTM', 'WFTA', 'WOR', 'WDR',\n",
    "       'WAst', 'WTO', 'WStl', 'WBlk', 'WPF'\n",
    "]].set_axis(['M_W', \"Season\", \"DayNum\", \"TeamID\", \"OppTeamID\", \"Score\", \"OppScore\", \"Loc\", \"FGM\", \n",
    "'FGA', 'FGM3', 'FGA3', 'FTM', 'FTA', 'OR', 'DR',\n",
    "       'Ast', 'TO', 'Stl', 'Blk', 'PF'], axis=1, inplace=False)\n",
    "winner_season_details['Result'] = 1\n",
    "       \n",
    "loser_season_details = season_details[['M_W', \"Season\", \"DayNum\", \"WTeamID\", \"LTeamID\", \"WScore\", \"LScore\", \n",
    "\"WLoc\", 'LFGM', 'LFGA', 'LFGM3', 'LFGA3',\n",
    "       'LFTM', 'LFTA', 'LOR', 'LDR', 'LAst', 'LTO', 'LStl', 'LBlk', 'LPF'\n",
    "]].set_axis(['M_W', \"Season\", \"DayNum\", \"OppTeamID\", \"TeamID\", \"OppScore\", \"Score\", \"Loc\", \"FGM\", \n",
    "'FGA', 'FGM3', 'FGA3', 'FTM', 'FTA', 'OR', 'DR',\n",
    "       'Ast', 'TO', 'Stl', 'Blk', 'PF'], axis=1, inplace=False)\n",
    "conditions = [(loser_season_details.Loc == \"H\"), \n",
    "(loser_season_details.Loc == \"A\"), \n",
    "(loser_season_details.Loc == \"N\")]\n",
    "choices = [\"A\", \"H\", \"N\"]\n",
    "loser_season_details['Result'] = 0\n",
    "loser_season_details[\"Loc\"] = np.select(conditions, choices)\n",
    "season_details = pd.concat([winner_season_details, loser_season_details])\n",
    "season_details.to_csv('game_results.csv', index=False) "
   ]
  },
  {
   "cell_type": "code",
   "execution_count": null,
   "metadata": {},
   "outputs": [],
   "source": []
  },
  {
   "cell_type": "code",
   "execution_count": 22,
   "metadata": {},
   "outputs": [],
   "source": [
    "season_rankings_m = pd.read_csv(\"MMasseyOrdinals_thru_Season2023_Day128.csv\")\n",
    "season_rankings_m.to_csv(\"season_rankings_men.csv\", index = False)"
   ]
  },
  {
   "cell_type": "code",
   "execution_count": 24,
   "metadata": {},
   "outputs": [],
   "source": [
    "m_tourney_results = pd.read_csv(\"MNCAATourneyCompactResults.csv\")\n",
    "m_tourney_results['M_W'] = 'M'\n",
    "w_tourney_results = pd.read_csv(\"WNCAATourneyCompactResults.csv\")\n",
    "w_tourney_results['M_W'] = 'W'\n",
    "tourney_details = pd.concat([m_tourney_results, w_tourney_results])\n",
    "tourney_details\n",
    "\n",
    "tourney_details.to_csv('tourney_results.csv', index=False) "
   ]
  },
  {
   "cell_type": "code",
   "execution_count": 42,
   "metadata": {},
   "outputs": [],
   "source": [
    "mteams = pd.read_csv(\"MTeams.csv\")\n",
    "mteams['M_W'] = 'M'\n",
    "wteams = pd.read_csv(\"WTeams.csv\")\n",
    "wteams['M_W'] = 'W'\n",
    "teams = pd.concat([mteams, wteams])\n",
    "teams.to_csv('teams.csv', index=False) "
   ]
  },
  {
   "cell_type": "code",
   "execution_count": null,
   "metadata": {},
   "outputs": [],
   "source": []
  },
  {
   "cell_type": "code",
   "execution_count": null,
   "metadata": {},
   "outputs": [],
   "source": []
  },
  {
   "cell_type": "code",
   "execution_count": null,
   "metadata": {},
   "outputs": [],
   "source": []
  },
  {
   "cell_type": "code",
   "execution_count": null,
   "metadata": {},
   "outputs": [],
   "source": []
  }
 ],
 "metadata": {
  "kernelspec": {
   "display_name": "Python 3",
   "language": "python",
   "name": "python3"
  },
  "language_info": {
   "codemirror_mode": {
    "name": "ipython",
    "version": 3
   },
   "file_extension": ".py",
   "mimetype": "text/x-python",
   "name": "python",
   "nbconvert_exporter": "python",
   "pygments_lexer": "ipython3",
   "version": "3.10.6"
  },
  "orig_nbformat": 4,
  "vscode": {
   "interpreter": {
    "hash": "8b5140b98f9aa636ad904647e184ddf94a8c49b25e448223e4f659e3845abf7f"
   }
  }
 },
 "nbformat": 4,
 "nbformat_minor": 2
}
